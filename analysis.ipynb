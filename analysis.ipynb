{
 "cells": [
  {
   "cell_type": "code",
   "execution_count": 111,
   "metadata": {},
   "outputs": [],
   "source": [
    "import pandas as pd\n",
    "import matplotlib.pyplot as plt\n",
    "import seaborn as sns\n",
    "import numpy as np\n",
    "from datetime import datetime\n",
    "import calendar\n"
   ]
  },
  {
   "cell_type": "code",
   "execution_count": 112,
   "metadata": {},
   "outputs": [
    {
     "name": "stdout",
     "output_type": "stream",
     "text": [
      "<class 'pandas.core.frame.DataFrame'>\n",
      "RangeIndex: 1246 entries, 0 to 1245\n",
      "Data columns (total 8 columns):\n",
      " #   Column                Non-Null Count  Dtype  \n",
      "---  ------                --------------  -----  \n",
      " 0   customer_id           1246 non-null   int64  \n",
      " 1   spend                 1246 non-null   float64\n",
      " 2   first_month           1246 non-null   object \n",
      " 3   items_in_first_month  1246 non-null   int64  \n",
      " 4   region                1246 non-null   object \n",
      " 5   loyalty_years         1246 non-null   object \n",
      " 6   joining_month         1121 non-null   object \n",
      " 7   promotion             1246 non-null   object \n",
      "dtypes: float64(1), int64(2), object(5)\n",
      "memory usage: 78.0+ KB\n",
      "None\n"
     ]
    }
   ],
   "source": [
    "customer_data = pd.read_csv(\"loyalty.csv\")\n",
    "print(customer_data.info())"
   ]
  },
  {
   "cell_type": "markdown",
   "metadata": {},
   "source": [
    "# **Checking the data columns by cloumn**  \n",
    "First I am checking the data accordingly to what we should expect.\n",
    "## **customer_id**  \n",
    "All the values should be unique.  \n"
   ]
  },
  {
   "cell_type": "code",
   "execution_count": 113,
   "metadata": {},
   "outputs": [
    {
     "name": "stdout",
     "output_type": "stream",
     "text": [
      "1246\n"
     ]
    },
    {
     "data": {
      "text/plain": [
       "1246"
      ]
     },
     "execution_count": 113,
     "metadata": {},
     "output_type": "execute_result"
    }
   ],
   "source": [
    "print(len(customer_data[\"customer_id\"].unique()))\n",
    "len(customer_data)"
   ]
  },
  {
   "cell_type": "code",
   "execution_count": 114,
   "metadata": {},
   "outputs": [
    {
     "name": "stdout",
     "output_type": "stream",
     "text": [
      "1246\n"
     ]
    }
   ],
   "source": [
    "print(customer_data[\"customer_id\"].iloc[-1])"
   ]
  },
  {
   "cell_type": "markdown",
   "metadata": {},
   "source": [
    "The dataframe is ordered by the ascending customer_id.  \n",
    "\n",
    "## **spend**  \n",
    "Continuous. </br>The total spend of the customer in their last full year. This can be any positive value to two decimal places. </br>Missing values should be replaced with 0. "
   ]
  },
  {
   "cell_type": "code",
   "execution_count": 115,
   "metadata": {},
   "outputs": [
    {
     "name": "stdout",
     "output_type": "stream",
     "text": [
      "count    1246.000000\n",
      "mean      122.637119\n",
      "std         9.975102\n",
      "min       104.290000\n",
      "25%       112.210000\n",
      "50%       123.840000\n",
      "75%       131.092500\n",
      "max       142.290000\n",
      "Name: spend, dtype: float64\n",
      "0    132.68\n",
      "1    106.45\n",
      "2    123.16\n",
      "3    130.60\n",
      "4    130.41\n",
      "Name: spend, dtype: float64\n"
     ]
    }
   ],
   "source": [
    "print(customer_data[\"spend\"].describe())\n",
    "print(customer_data[\"spend\"].head())"
   ]
  },
  {
   "cell_type": "markdown",
   "metadata": {},
   "source": [
    "There are no missing values and no 0 (the minimum is 104.29).  \n",
    "Furthermore, it seems taht the values are all rounded to 2 decimals. However, the 75 percentile has 4 decimals. Because I am a bit leaszy, just to be sure I will round to 2 decimals the column.  \n"
   ]
  },
  {
   "cell_type": "code",
   "execution_count": 116,
   "metadata": {},
   "outputs": [],
   "source": [
    "customer_data[\"spend\"] = customer_data[\"spend\"].round(2)"
   ]
  },
  {
   "cell_type": "markdown",
   "metadata": {},
   "source": [
    "## **first_month**  \n",
    "Continuous. </br>The amount spent by the customer in their first month of the year. This can be any positive value, rounded to two decimal places. </br>Missing values should be replaced with 0.  \n",
    "\n",
    "Based on the general info, this column is an object type (string). It should be a float.  "
   ]
  },
  {
   "cell_type": "code",
   "execution_count": 117,
   "metadata": {},
   "outputs": [
    {
     "name": "stdout",
     "output_type": "stream",
     "text": [
      "first_month\n",
      ".        125\n",
      "21.38     12\n",
      "21.33     10\n",
      "21.35      9\n",
      "21.39      9\n",
      "        ... \n",
      "15.71      1\n",
      "25.28      1\n",
      "24.41      1\n",
      "19.95      1\n",
      "26.18      1\n",
      "Name: count, Length: 491, dtype: int64\n",
      "0\n"
     ]
    }
   ],
   "source": [
    "print(customer_data[\"first_month\"].value_counts(dropna=False))\n",
    "print(customer_data[\"first_month\"].isna().sum())"
   ]
  },
  {
   "cell_type": "markdown",
   "metadata": {},
   "source": [
    "The problem is the \".\". I will replace it to 0 and change to float type."
   ]
  },
  {
   "cell_type": "code",
   "execution_count": 118,
   "metadata": {},
   "outputs": [
    {
     "name": "stdout",
     "output_type": "stream",
     "text": [
      "count    1246.000000\n",
      "mean       17.161998\n",
      "std         6.583749\n",
      "min         0.000000\n",
      "25%        15.750000\n",
      "50%        19.125000\n",
      "75%        21.280000\n",
      "max        26.200000\n",
      "Name: first_month, dtype: float64\n"
     ]
    },
    {
     "name": "stderr",
     "output_type": "stream",
     "text": [
      "C:\\Users\\Angelique\\AppData\\Local\\Temp\\ipykernel_9168\\2959011451.py:1: FutureWarning: A value is trying to be set on a copy of a DataFrame or Series through chained assignment using an inplace method.\n",
      "The behavior will change in pandas 3.0. This inplace method will never work because the intermediate object on which we are setting values always behaves as a copy.\n",
      "\n",
      "For example, when doing 'df[col].method(value, inplace=True)', try using 'df.method({col: value}, inplace=True)' or df[col] = df[col].method(value) instead, to perform the operation inplace on the original object.\n",
      "\n",
      "\n",
      "  customer_data[\"first_month\"].replace(\".\",None, inplace=True)\n",
      "C:\\Users\\Angelique\\AppData\\Local\\Temp\\ipykernel_9168\\2959011451.py:3: FutureWarning: A value is trying to be set on a copy of a DataFrame or Series through chained assignment using an inplace method.\n",
      "The behavior will change in pandas 3.0. This inplace method will never work because the intermediate object on which we are setting values always behaves as a copy.\n",
      "\n",
      "For example, when doing 'df[col].method(value, inplace=True)', try using 'df.method({col: value}, inplace=True)' or df[col] = df[col].method(value) instead, to perform the operation inplace on the original object.\n",
      "\n",
      "\n",
      "  customer_data[\"first_month\"].fillna(0, inplace=True)\n"
     ]
    }
   ],
   "source": [
    "customer_data[\"first_month\"].replace(\".\",None, inplace=True)\n",
    "customer_data[\"first_month\"] = customer_data[\"first_month\"].astype(float)\n",
    "customer_data[\"first_month\"].fillna(0, inplace=True)\n",
    "print(customer_data[\"first_month\"].describe())"
   ]
  },
  {
   "cell_type": "code",
   "execution_count": 119,
   "metadata": {},
   "outputs": [
    {
     "name": "stdout",
     "output_type": "stream",
     "text": [
      "count    1246.000000\n",
      "mean       17.161998\n",
      "std         6.583749\n",
      "min         0.000000\n",
      "25%        15.750000\n",
      "50%        19.125000\n",
      "75%        21.280000\n",
      "max        26.200000\n",
      "Name: first_month, dtype: float64\n"
     ]
    }
   ],
   "source": [
    "customer_data[\"first_month\"] = customer_data[\"first_month\"].round(2)\n",
    "print(customer_data[\"first_month\"].describe())"
   ]
  },
  {
   "cell_type": "markdown",
   "metadata": {},
   "source": [
    "## **items_in_first_month**\n",
    "Discrete. </br>The number of items purchased in the first month. Any integer value greater than or equal to zero. </br>Missing values should be replaced by 0.  \n",
    "\n",
    "Based on the general info, the type is integer so it's a good type. Furthermore there are no missing values. So let's see if we have 0. If we do not have 0, I will have to compare with the customers who have spent nothing in the first month.  "
   ]
  },
  {
   "cell_type": "code",
   "execution_count": 120,
   "metadata": {},
   "outputs": [
    {
     "name": "stdout",
     "output_type": "stream",
     "text": [
      "count    1246.000000\n",
      "mean        9.418138\n",
      "std         3.000288\n",
      "min         5.000000\n",
      "25%         7.000000\n",
      "50%         9.000000\n",
      "75%        13.000000\n",
      "max        15.000000\n",
      "Name: items_in_first_month, dtype: float64\n"
     ]
    }
   ],
   "source": [
    "print(customer_data[\"items_in_first_month\"].describe())"
   ]
  },
  {
   "cell_type": "markdown",
   "metadata": {},
   "source": [
    "Humm...We do not have any 0 as minimum. I will go back to it in the next chapter. For now I am only doing a general scrolling.  "
   ]
  },
  {
   "cell_type": "markdown",
   "metadata": {},
   "source": [
    "## **region**\n",
    "Nominal. </br>The geographic region that the customer is based in. One of four values Americas, Asia/Pacific, Europe, Middle East/Africa. </br>Missing values should be replaced with \"Unknown\".  \n",
    "In the general info this column is an object. So far so good.  "
   ]
  },
  {
   "cell_type": "code",
   "execution_count": 121,
   "metadata": {},
   "outputs": [
    {
     "name": "stdout",
     "output_type": "stream",
     "text": [
      "region\n",
      "Middle East/Africa    326\n",
      "Europe                320\n",
      "Americas              309\n",
      "Asia/Pacific          291\n",
      "Name: count, dtype: int64\n"
     ]
    }
   ],
   "source": [
    "print(customer_data[\"region\"].value_counts(dropna=False))"
   ]
  },
  {
   "cell_type": "markdown",
   "metadata": {},
   "source": [
    "Everything seems in Ordnung. So I will switch to categorical to gain some space.  "
   ]
  },
  {
   "cell_type": "code",
   "execution_count": 122,
   "metadata": {},
   "outputs": [],
   "source": [
    "customer_data[\"region\"] = customer_data[\"region\"].astype(\"category\")"
   ]
  },
  {
   "cell_type": "markdown",
   "metadata": {},
   "source": [
    "## **loyalty_years**  \n",
    "Oridinal. </br>The number of years the customer has been a part of the loyalty program. One of five ordered categories, '0-1', '1-3', '3-5', '5-10', '10+'. </br>Missing values should be replaced with '0-1'.  \n",
    "Right now the column is an object and needs to be changed into an ordered caetgorical type.  "
   ]
  },
  {
   "cell_type": "code",
   "execution_count": 123,
   "metadata": {},
   "outputs": [
    {
     "name": "stdout",
     "output_type": "stream",
     "text": [
      "loyalty_years\n",
      "5-10    250\n",
      "0-1     382\n",
      "10+     117\n",
      "3-5     256\n",
      "1-3     241\n",
      "Name: count, dtype: int64\n"
     ]
    }
   ],
   "source": [
    "print(customer_data[\"loyalty_years\"].value_counts(dropna=False, sort=False))"
   ]
  },
  {
   "cell_type": "markdown",
   "metadata": {},
   "source": [
    "I have to switch to categories. Right now they are not ordered at all.  "
   ]
  },
  {
   "cell_type": "code",
   "execution_count": 124,
   "metadata": {},
   "outputs": [
    {
     "name": "stdout",
     "output_type": "stream",
     "text": [
      "loyalty_years\n",
      "0-1     382\n",
      "1-3     241\n",
      "3-5     256\n",
      "5-10    250\n",
      "10+     117\n",
      "Name: count, dtype: int64\n"
     ]
    }
   ],
   "source": [
    "customer_data[\"loyalty_years\"] = customer_data[\"loyalty_years\"].astype(\"category\")\n",
    "new_categories = [\"0-1\",\"1-3\",\"3-5\",\"5-10\",\"10+\"]\n",
    "customer_data[\"loyalty_years\"] = customer_data[\"loyalty_years\"].cat.reorder_categories(new_categories=new_categories, ordered=True)\n",
    "print(customer_data[\"loyalty_years\"].value_counts(sort=False))"
   ]
  },
  {
   "cell_type": "markdown",
   "metadata": {},
   "source": [
    "## **joining_month**  \n",
    "Nominal. </br>The month the customer joined the loyalty program. One of 12 values \"Jan\", \"Feb\", \"Mar\", \"Apr\", etc. </br>Missing values should be replaced with \"Unknown\".  "
   ]
  },
  {
   "cell_type": "code",
   "execution_count": 125,
   "metadata": {},
   "outputs": [
    {
     "name": "stdout",
     "output_type": "stream",
     "text": [
      "joining_month\n",
      "Jan    146\n",
      "NaN    125\n",
      "Jul    111\n",
      "Feb    109\n",
      "Oct    107\n",
      "May     96\n",
      "Apr     93\n",
      "Aug     91\n",
      "Sep     88\n",
      "Mar     85\n",
      "Nov     75\n",
      "Jun     75\n",
      "Dec     45\n",
      "Name: count, dtype: int64\n",
      "joining_month\n",
      "Jan        146\n",
      "Unknown    125\n",
      "Jul        111\n",
      "Feb        109\n",
      "Oct        107\n",
      "May         96\n",
      "Apr         93\n",
      "Aug         91\n",
      "Sep         88\n",
      "Mar         85\n",
      "Nov         75\n",
      "Jun         75\n",
      "Dec         45\n",
      "Name: count, dtype: int64\n",
      "125\n"
     ]
    },
    {
     "name": "stderr",
     "output_type": "stream",
     "text": [
      "C:\\Users\\Angelique\\AppData\\Local\\Temp\\ipykernel_9168\\223968871.py:4: FutureWarning: A value is trying to be set on a copy of a DataFrame or Series through chained assignment using an inplace method.\n",
      "The behavior will change in pandas 3.0. This inplace method will never work because the intermediate object on which we are setting values always behaves as a copy.\n",
      "\n",
      "For example, when doing 'df[col].method(value, inplace=True)', try using 'df.method({col: value}, inplace=True)' or df[col] = df[col].method(value) instead, to perform the operation inplace on the original object.\n",
      "\n",
      "\n",
      "  customer_data[\"joining_month\"].fillna(\"Unknown\", inplace=True)\n",
      "C:\\Users\\Angelique\\AppData\\Local\\Temp\\ipykernel_9168\\223968871.py:7: FutureWarning: A value is trying to be set on a copy of a DataFrame or Series through chained assignment using an inplace method.\n",
      "The behavior will change in pandas 3.0. This inplace method will never work because the intermediate object on which we are setting values always behaves as a copy.\n",
      "\n",
      "For example, when doing 'df[col].method(value, inplace=True)', try using 'df.method({col: value}, inplace=True)' or df[col] = df[col].method(value) instead, to perform the operation inplace on the original object.\n",
      "\n",
      "\n",
      "  customer_data[\"joining_month_num\"].fillna(0, inplace=True)\n"
     ]
    },
    {
     "data": {
      "text/plain": [
       "0"
      ]
     },
     "execution_count": 125,
     "metadata": {},
     "output_type": "execute_result"
    }
   ],
   "source": [
    "print(customer_data[\"joining_month\"].value_counts(dropna=False))\n",
    "customer_data[\"joining_month_num\"] = pd.to_datetime(customer_data[\"joining_month\"], format=\"%b\")\n",
    "customer_data[\"joining_month_num\"] = customer_data[\"joining_month_num\"].dt.month\n",
    "customer_data[\"joining_month\"].fillna(\"Unknown\", inplace=True)\n",
    "print(customer_data[\"joining_month\"].value_counts(dropna=False))\n",
    "print(customer_data[\"joining_month_num\"].isna().sum())\n",
    "customer_data[\"joining_month_num\"].fillna(0, inplace=True)\n",
    "customer_data[\"joining_month_num\"].isna().sum()\n"
   ]
  }
 ],
 "metadata": {
  "kernelspec": {
   "display_name": "Essai",
   "language": "python",
   "name": "python3"
  },
  "language_info": {
   "codemirror_mode": {
    "name": "ipython",
    "version": 3
   },
   "file_extension": ".py",
   "mimetype": "text/x-python",
   "name": "python",
   "nbconvert_exporter": "python",
   "pygments_lexer": "ipython3",
   "version": "3.12.4"
  }
 },
 "nbformat": 4,
 "nbformat_minor": 2
}
