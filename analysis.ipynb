{
 "cells": [
  {
   "cell_type": "code",
   "execution_count": 145,
   "metadata": {},
   "outputs": [],
   "source": [
    "import pandas as pd\n",
    "import matplotlib.pyplot as plt\n",
    "import seaborn as sns\n",
    "import numpy as np\n",
    "from datetime import datetime\n",
    "import calendar\n",
    "from scipy.stats import mannwhitneyu\n",
    "from statsmodels.stats.proportion import proportions_ztest\n"
   ]
  },
  {
   "cell_type": "code",
   "execution_count": 101,
   "metadata": {},
   "outputs": [
    {
     "name": "stdout",
     "output_type": "stream",
     "text": [
      "<class 'pandas.core.frame.DataFrame'>\n",
      "RangeIndex: 1246 entries, 0 to 1245\n",
      "Data columns (total 8 columns):\n",
      " #   Column                Non-Null Count  Dtype  \n",
      "---  ------                --------------  -----  \n",
      " 0   customer_id           1246 non-null   int64  \n",
      " 1   spend                 1246 non-null   float64\n",
      " 2   first_month           1246 non-null   object \n",
      " 3   items_in_first_month  1246 non-null   int64  \n",
      " 4   region                1246 non-null   object \n",
      " 5   loyalty_years         1246 non-null   object \n",
      " 6   joining_month         1121 non-null   object \n",
      " 7   promotion             1246 non-null   object \n",
      "dtypes: float64(1), int64(2), object(5)\n",
      "memory usage: 78.0+ KB\n",
      "None\n"
     ]
    }
   ],
   "source": [
    "customer_data = pd.read_csv(\"loyalty.csv\")\n",
    "print(customer_data.info())"
   ]
  },
  {
   "cell_type": "markdown",
   "metadata": {},
   "source": [
    "# **Checking the data columns by column**  \n",
    "First I am checking the data accordingly to what we should expect.\n",
    "## **customer_id**  \n",
    "All the values should be unique.  \n"
   ]
  },
  {
   "cell_type": "code",
   "execution_count": 102,
   "metadata": {},
   "outputs": [
    {
     "name": "stdout",
     "output_type": "stream",
     "text": [
      "1246\n"
     ]
    },
    {
     "data": {
      "text/plain": [
       "1246"
      ]
     },
     "execution_count": 102,
     "metadata": {},
     "output_type": "execute_result"
    }
   ],
   "source": [
    "print(len(customer_data[\"customer_id\"].unique()))\n",
    "len(customer_data)"
   ]
  },
  {
   "cell_type": "code",
   "execution_count": 103,
   "metadata": {},
   "outputs": [
    {
     "name": "stdout",
     "output_type": "stream",
     "text": [
      "1246\n"
     ]
    }
   ],
   "source": [
    "print(customer_data[\"customer_id\"].iloc[-1])"
   ]
  },
  {
   "cell_type": "markdown",
   "metadata": {},
   "source": [
    "The dataframe is ordered by the ascending customer_id.  \n",
    "\n",
    "## **spend**  \n",
    "Continuous. </br>The total spend of the customer in their last full year. This can be any positive value to two decimal places. </br>Missing values should be replaced with 0. "
   ]
  },
  {
   "cell_type": "code",
   "execution_count": 104,
   "metadata": {},
   "outputs": [
    {
     "name": "stdout",
     "output_type": "stream",
     "text": [
      "count    1246.000000\n",
      "mean      122.637119\n",
      "std         9.975102\n",
      "min       104.290000\n",
      "25%       112.210000\n",
      "50%       123.840000\n",
      "75%       131.092500\n",
      "max       142.290000\n",
      "Name: spend, dtype: float64\n",
      "0    132.68\n",
      "1    106.45\n",
      "2    123.16\n",
      "3    130.60\n",
      "4    130.41\n",
      "Name: spend, dtype: float64\n"
     ]
    }
   ],
   "source": [
    "print(customer_data[\"spend\"].describe())\n",
    "print(customer_data[\"spend\"].head())"
   ]
  },
  {
   "cell_type": "markdown",
   "metadata": {},
   "source": [
    "There are no missing values and no 0 (the minimum is 104.29).  \n",
    "Furthermore, it seems taht the values are all rounded to 2 decimals. However, the 75 percentile has 4 decimals. Because I am a bit leaszy, just to be sure I will round to 2 decimals the column.  \n"
   ]
  },
  {
   "cell_type": "code",
   "execution_count": 105,
   "metadata": {},
   "outputs": [],
   "source": [
    "customer_data[\"spend\"] = customer_data[\"spend\"].round(2)"
   ]
  },
  {
   "cell_type": "markdown",
   "metadata": {},
   "source": [
    "## **first_month**  \n",
    "Continuous. </br>The amount spent by the customer in their first month of the year. This can be any positive value, rounded to two decimal places. </br>Missing values should be replaced with 0.  \n",
    "\n",
    "Based on the general info, this column is an object type (string). It should be a float.  "
   ]
  },
  {
   "cell_type": "code",
   "execution_count": 106,
   "metadata": {},
   "outputs": [
    {
     "name": "stdout",
     "output_type": "stream",
     "text": [
      "first_month\n",
      ".        125\n",
      "21.38     12\n",
      "21.33     10\n",
      "21.35      9\n",
      "21.39      9\n",
      "        ... \n",
      "15.71      1\n",
      "25.28      1\n",
      "24.41      1\n",
      "19.95      1\n",
      "26.18      1\n",
      "Name: count, Length: 491, dtype: int64\n",
      "0\n"
     ]
    }
   ],
   "source": [
    "print(customer_data[\"first_month\"].value_counts(dropna=False))\n",
    "print(customer_data[\"first_month\"].isna().sum())"
   ]
  },
  {
   "cell_type": "markdown",
   "metadata": {},
   "source": [
    "The problem is the \".\". I will replace it to 0 and change to float type."
   ]
  },
  {
   "cell_type": "code",
   "execution_count": 107,
   "metadata": {},
   "outputs": [
    {
     "name": "stdout",
     "output_type": "stream",
     "text": [
      "count    1246.000000\n",
      "mean       17.161998\n",
      "std         6.583749\n",
      "min         0.000000\n",
      "25%        15.750000\n",
      "50%        19.125000\n",
      "75%        21.280000\n",
      "max        26.200000\n",
      "Name: first_month, dtype: float64\n"
     ]
    },
    {
     "name": "stderr",
     "output_type": "stream",
     "text": [
      "C:\\Users\\Angelique\\AppData\\Local\\Temp\\ipykernel_1120\\2959011451.py:1: FutureWarning: A value is trying to be set on a copy of a DataFrame or Series through chained assignment using an inplace method.\n",
      "The behavior will change in pandas 3.0. This inplace method will never work because the intermediate object on which we are setting values always behaves as a copy.\n",
      "\n",
      "For example, when doing 'df[col].method(value, inplace=True)', try using 'df.method({col: value}, inplace=True)' or df[col] = df[col].method(value) instead, to perform the operation inplace on the original object.\n",
      "\n",
      "\n",
      "  customer_data[\"first_month\"].replace(\".\",None, inplace=True)\n",
      "C:\\Users\\Angelique\\AppData\\Local\\Temp\\ipykernel_1120\\2959011451.py:3: FutureWarning: A value is trying to be set on a copy of a DataFrame or Series through chained assignment using an inplace method.\n",
      "The behavior will change in pandas 3.0. This inplace method will never work because the intermediate object on which we are setting values always behaves as a copy.\n",
      "\n",
      "For example, when doing 'df[col].method(value, inplace=True)', try using 'df.method({col: value}, inplace=True)' or df[col] = df[col].method(value) instead, to perform the operation inplace on the original object.\n",
      "\n",
      "\n",
      "  customer_data[\"first_month\"].fillna(0, inplace=True)\n"
     ]
    }
   ],
   "source": [
    "customer_data[\"first_month\"].replace(\".\",None, inplace=True)\n",
    "customer_data[\"first_month\"] = customer_data[\"first_month\"].astype(float)\n",
    "customer_data[\"first_month\"].fillna(0, inplace=True)\n",
    "print(customer_data[\"first_month\"].describe())"
   ]
  },
  {
   "cell_type": "code",
   "execution_count": 108,
   "metadata": {},
   "outputs": [
    {
     "name": "stdout",
     "output_type": "stream",
     "text": [
      "count    1246.000000\n",
      "mean       17.161998\n",
      "std         6.583749\n",
      "min         0.000000\n",
      "25%        15.750000\n",
      "50%        19.125000\n",
      "75%        21.280000\n",
      "max        26.200000\n",
      "Name: first_month, dtype: float64\n"
     ]
    }
   ],
   "source": [
    "customer_data[\"first_month\"] = customer_data[\"first_month\"].round(2)\n",
    "print(customer_data[\"first_month\"].describe())"
   ]
  },
  {
   "cell_type": "markdown",
   "metadata": {},
   "source": [
    "## **items_in_first_month**\n",
    "Discrete. </br>The number of items purchased in the first month. Any integer value greater than or equal to zero. </br>Missing values should be replaced by 0.  \n",
    "\n",
    "Based on the general info, the type is integer so it's a good type. Furthermore there are no missing values. So let's see if we have 0. If we do not have 0, I will have to compare with the customers who have spent nothing in the first month.  "
   ]
  },
  {
   "cell_type": "code",
   "execution_count": 109,
   "metadata": {},
   "outputs": [
    {
     "name": "stdout",
     "output_type": "stream",
     "text": [
      "count    1246.000000\n",
      "mean        9.418138\n",
      "std         3.000288\n",
      "min         5.000000\n",
      "25%         7.000000\n",
      "50%         9.000000\n",
      "75%        13.000000\n",
      "max        15.000000\n",
      "Name: items_in_first_month, dtype: float64\n"
     ]
    }
   ],
   "source": [
    "print(customer_data[\"items_in_first_month\"].describe())"
   ]
  },
  {
   "cell_type": "markdown",
   "metadata": {},
   "source": [
    "Humm...We do not have any 0 as minimum. I will go back to it in the next chapter. For now I am only doing a general scrolling.  "
   ]
  },
  {
   "cell_type": "markdown",
   "metadata": {},
   "source": [
    "## **region**\n",
    "Nominal. </br>The geographic region that the customer is based in. One of four values Americas, Asia/Pacific, Europe, Middle East/Africa. </br>Missing values should be replaced with \"Unknown\".  \n",
    "In the general info this column is an object. So far so good.  "
   ]
  },
  {
   "cell_type": "code",
   "execution_count": 110,
   "metadata": {},
   "outputs": [
    {
     "name": "stdout",
     "output_type": "stream",
     "text": [
      "region\n",
      "Middle East/Africa    326\n",
      "Europe                320\n",
      "Americas              309\n",
      "Asia/Pacific          291\n",
      "Name: count, dtype: int64\n"
     ]
    }
   ],
   "source": [
    "print(customer_data[\"region\"].value_counts(dropna=False))"
   ]
  },
  {
   "cell_type": "markdown",
   "metadata": {},
   "source": [
    "Everything seems in Ordnung. So I will switch to categorical to gain some space.  "
   ]
  },
  {
   "cell_type": "code",
   "execution_count": 111,
   "metadata": {},
   "outputs": [],
   "source": [
    "customer_data[\"region\"] = customer_data[\"region\"].astype(\"category\")"
   ]
  },
  {
   "cell_type": "markdown",
   "metadata": {},
   "source": [
    "## **loyalty_years**  \n",
    "Oridinal. </br>The number of years the customer has been a part of the loyalty program. One of five ordered categories, '0-1', '1-3', '3-5', '5-10', '10+'. </br>Missing values should be replaced with '0-1'.  \n",
    "Right now the column is an object and needs to be changed into an ordered caetgorical type.  "
   ]
  },
  {
   "cell_type": "code",
   "execution_count": 112,
   "metadata": {},
   "outputs": [
    {
     "name": "stdout",
     "output_type": "stream",
     "text": [
      "loyalty_years\n",
      "5-10    250\n",
      "0-1     382\n",
      "10+     117\n",
      "3-5     256\n",
      "1-3     241\n",
      "Name: count, dtype: int64\n"
     ]
    }
   ],
   "source": [
    "print(customer_data[\"loyalty_years\"].value_counts(dropna=False, sort=False))"
   ]
  },
  {
   "cell_type": "markdown",
   "metadata": {},
   "source": [
    "I have to switch to categories. Right now they are not ordered at all.  "
   ]
  },
  {
   "cell_type": "code",
   "execution_count": 113,
   "metadata": {},
   "outputs": [
    {
     "name": "stdout",
     "output_type": "stream",
     "text": [
      "loyalty_years\n",
      "0-1     382\n",
      "1-3     241\n",
      "3-5     256\n",
      "5-10    250\n",
      "10+     117\n",
      "Name: count, dtype: int64\n"
     ]
    }
   ],
   "source": [
    "customer_data[\"loyalty_years\"] = customer_data[\"loyalty_years\"].astype(\"category\")\n",
    "new_categories = [\"0-1\",\"1-3\",\"3-5\",\"5-10\",\"10+\"]\n",
    "customer_data[\"loyalty_years\"] = customer_data[\"loyalty_years\"].cat.reorder_categories(new_categories=new_categories, ordered=True)\n",
    "print(customer_data[\"loyalty_years\"].value_counts(sort=False))"
   ]
  },
  {
   "cell_type": "markdown",
   "metadata": {},
   "source": [
    "## **joining_month**  \n",
    "Nominal. </br>The month the customer joined the loyalty program. One of 12 values \"Jan\", \"Feb\", \"Mar\", \"Apr\", etc. </br>Missing values should be replaced with \"Unknown\".  "
   ]
  },
  {
   "cell_type": "code",
   "execution_count": 114,
   "metadata": {},
   "outputs": [
    {
     "name": "stdout",
     "output_type": "stream",
     "text": [
      "joining_month\n",
      "Unknown    125\n",
      "Jan        146\n",
      "Feb        109\n",
      "Mar         85\n",
      "Apr         93\n",
      "May         96\n",
      "Jun         75\n",
      "Jul        111\n",
      "Aug         91\n",
      "Sep         88\n",
      "Oct        107\n",
      "Nov         75\n",
      "Dec         45\n",
      "Name: count, dtype: int64\n",
      "joining_month_num\n",
      "1.0     146\n",
      "0.0     125\n",
      "7.0     111\n",
      "2.0     109\n",
      "10.0    107\n",
      "5.0      96\n",
      "4.0      93\n",
      "8.0      91\n",
      "9.0      88\n",
      "3.0      85\n",
      "11.0     75\n",
      "6.0      75\n",
      "12.0     45\n",
      "Name: count, dtype: int64\n"
     ]
    },
    {
     "name": "stderr",
     "output_type": "stream",
     "text": [
      "C:\\Users\\Angelique\\AppData\\Local\\Temp\\ipykernel_1120\\3437133417.py:3: FutureWarning: A value is trying to be set on a copy of a DataFrame or Series through chained assignment using an inplace method.\n",
      "The behavior will change in pandas 3.0. This inplace method will never work because the intermediate object on which we are setting values always behaves as a copy.\n",
      "\n",
      "For example, when doing 'df[col].method(value, inplace=True)', try using 'df.method({col: value}, inplace=True)' or df[col] = df[col].method(value) instead, to perform the operation inplace on the original object.\n",
      "\n",
      "\n",
      "  customer_data[\"joining_month_num\"].fillna(0, inplace=True)\n",
      "C:\\Users\\Angelique\\AppData\\Local\\Temp\\ipykernel_1120\\3437133417.py:5: FutureWarning: A value is trying to be set on a copy of a DataFrame or Series through chained assignment using an inplace method.\n",
      "The behavior will change in pandas 3.0. This inplace method will never work because the intermediate object on which we are setting values always behaves as a copy.\n",
      "\n",
      "For example, when doing 'df[col].method(value, inplace=True)', try using 'df.method({col: value}, inplace=True)' or df[col] = df[col].method(value) instead, to perform the operation inplace on the original object.\n",
      "\n",
      "\n",
      "  customer_data[\"joining_month\"].fillna(\"Unknown\", inplace=True)\n"
     ]
    }
   ],
   "source": [
    "customer_data[\"joining_month_num\"] = pd.to_datetime(customer_data[\"joining_month\"], format=\"%b\")\n",
    "customer_data[\"joining_month_num\"] = customer_data[\"joining_month_num\"].dt.month\n",
    "customer_data[\"joining_month_num\"].fillna(0, inplace=True)\n",
    "\n",
    "customer_data[\"joining_month\"].fillna(\"Unknown\", inplace=True)\n",
    "ordered_month = ['Unknown', \"Jan\", \"Feb\", \"Mar\", \"Apr\", \"May\", \"Jun\", \"Jul\", \"Aug\", \"Sep\", \"Oct\", \"Nov\", \"Dec\"]\n",
    "customer_data[\"joining_month\"] = customer_data[\"joining_month\"].astype(\"category\")\n",
    "customer_data[\"joining_month\"] = customer_data[\"joining_month\"].cat.reorder_categories(new_categories=ordered_month\\\n",
    "                                                                                       , ordered=True)\n",
    "\n",
    "print(customer_data[\"joining_month\"].value_counts(sort=False, dropna=False))\n",
    "print(customer_data[\"joining_month_num\"].value_counts(dropna=False))\n"
   ]
  },
  {
   "cell_type": "markdown",
   "metadata": {},
   "source": [
    "## **promotion**\n",
    "Nominal. </br>Did the customer join the loyalty program as part of a promotion? Either 'Yes' or 'No'. </br>Missing values should be replaced with 'No'."
   ]
  },
  {
   "cell_type": "code",
   "execution_count": 115,
   "metadata": {},
   "outputs": [
    {
     "name": "stdout",
     "output_type": "stream",
     "text": [
      "promotion\n",
      "No     572\n",
      "Yes    549\n",
      "NO      63\n",
      "YES     62\n",
      "Name: count, dtype: int64\n"
     ]
    }
   ],
   "source": [
    "print(customer_data[\"promotion\"].value_counts(dropna=False))"
   ]
  },
  {
   "cell_type": "markdown",
   "metadata": {},
   "source": [
    "We have some typo problems. Let's clean this up."
   ]
  },
  {
   "cell_type": "code",
   "execution_count": 116,
   "metadata": {},
   "outputs": [
    {
     "name": "stdout",
     "output_type": "stream",
     "text": [
      "promotion\n",
      "No     635\n",
      "Yes    611\n",
      "Name: count, dtype: int64\n"
     ]
    }
   ],
   "source": [
    "customer_data[\"promotion\"] = customer_data[\"promotion\"].str.title()\n",
    "print(customer_data[\"promotion\"].value_counts())"
   ]
  },
  {
   "cell_type": "markdown",
   "metadata": {},
   "source": [
    "# **A closer look to our customers who got free items at their first month (reward)**  \n",
    "10% of our customers have spent nothing in their 1st month of the year although they did buy stuffs since I do not have 0 items bought in the first month.  \n",
    "the question we can therefore ask is: do these customers who spent nothing in their first month but only used their rewards, spend in this year more than the ones who did spend some money in their first month?\n",
    "It would make sense that if they are satisfied with the reward, having bought so many things for free, they would spend more during the year, encouraged to get a bigger reward and therefore more free stuffs for them the following year. \n"
   ]
  },
  {
   "cell_type": "markdown",
   "metadata": {},
   "source": [
    "## **Do the customers who buy stuff only with their rewards on their first month, spend more over the year?**  \n",
    "We can see that these customers who have spent nothing on their renewal month and only took advantage of their rewards, got a fair number of items for free.  \n",
    "I think therefore that it is legitimate to analyse their spending behaviour over the year compared to the customers who did spend some money on the month of their membership renewal. "
   ]
  },
  {
   "cell_type": "code",
   "execution_count": 133,
   "metadata": {},
   "outputs": [
    {
     "name": "stdout",
     "output_type": "stream",
     "text": [
      "                  count        mean        std     min     25%     50%  \\\n",
      "rewarded_vs_not                                                          \n",
      "invested         1121.0  122.575513  10.034816  104.29  112.19  123.84   \n",
      "rewarded          125.0  123.189600   9.443026  104.50  112.50  124.73   \n",
      "\n",
      "                    75%     max  \n",
      "rewarded_vs_not                  \n",
      "invested         130.99  142.29  \n",
      "rewarded         131.18  141.85  \n"
     ]
    }
   ],
   "source": [
    "customer_data[\"rewarded_vs_not\"] = np.where(customer_data[\"first_month\"] == 0, \"rewarded\", \"invested\")\n",
    "print(customer_data.groupby(\"rewarded_vs_not\")[\"spend\"].describe())"
   ]
  },
  {
   "cell_type": "markdown",
   "metadata": {},
   "source": [
    "I don't see much difference between the people who took advanatge of their rewards and the ones who haven't. I can make a quick statistical test (just to show off) to see if that's the case (H0 = no difference of year spend).  "
   ]
  },
  {
   "cell_type": "code",
   "execution_count": 137,
   "metadata": {},
   "outputs": [
    {
     "data": {
      "text/plain": [
       "<Axes: xlabel='spend', ylabel='Count'>"
      ]
     },
     "execution_count": 137,
     "metadata": {},
     "output_type": "execute_result"
    },
    {
     "data": {
      "image/png": "[encoded data removed]",
      "text/plain": [
       "<Figure size 640x480 with 1 Axes>"
      ]
     },
     "metadata": {},
     "output_type": "display_data"
    }
   ],
   "source": [
    "#look at the distribution of spend\n",
    "sns.histplot(x=\"spend\", data=customer_data, hue=\"rewarded_vs_not\", bins=50)"
   ]
  },
  {
   "cell_type": "markdown",
   "metadata": {},
   "source": [
    "The spending is not normally distributed, so I will use a non parametric statiscal test. Because I am comparing only 2 samples, I will use a Mann-Whitney U test."
   ]
  },
  {
   "cell_type": "code",
   "execution_count": 154,
   "metadata": {},
   "outputs": [
    {
     "name": "stdout",
     "output_type": "stream",
     "text": [
      "Mann-Whitney U test p_val: 0.4679\n"
     ]
    }
   ],
   "source": [
    "alpha = 0.05\n",
    "spend_U_stat, spend_U_pval = mannwhitneyu(customer_data[customer_data[\"rewarded_vs_not\"] == \"rewarded\"][\"spend\"],\\\n",
    "                                          customer_data[customer_data[\"rewarded_vs_not\"] == \"invested\"][\"spend\"])\n",
    "print(f\"Mann-Whitney U test p_val: {spend_U_pval:0.4f}\")"
   ]
  },
  {
   "cell_type": "markdown",
   "metadata": {},
   "source": [
    "There is no significant difference of the amount spend over the year between the people who took fully advantage of their rewards and the ones who haven't.  \n",
    "Perhaps the ones who did spend some money on their renewal month bought more items which would have included the free ones plus others.  "
   ]
  },
  {
   "cell_type": "markdown",
   "metadata": {},
   "source": [
    "## **Do the customers who spent some money on their first month, bought more items in that month?**  \n",
    "The idea here is that if these customers who do not spend more than the others over a year use all their reward on their first month, they may get less items than the ones who have spent somemoney on their first month.  "
   ]
  },
  {
   "cell_type": "code",
   "execution_count": 141,
   "metadata": {},
   "outputs": [
    {
     "name": "stdout",
     "output_type": "stream",
     "text": [
      "                  count      mean       std  min  25%  50%   75%   max\n",
      "rewarded_vs_not                                                       \n",
      "invested         1121.0  9.443354  3.025878  5.0  7.0  9.0  13.0  15.0\n",
      "rewarded          125.0  9.192000  2.761183  5.0  7.0  9.0  11.0  14.0\n"
     ]
    }
   ],
   "source": [
    "print(customer_data.groupby(\"rewarded_vs_not\")[\"items_in_first_month\"].describe())"
   ]
  },
  {
   "cell_type": "markdown",
   "metadata": {},
   "source": [
    "Once again, I do not see any significant differences (the median is exactly the same between the two groups) between the two groups."
   ]
  },
  {
   "cell_type": "code",
   "execution_count": 142,
   "metadata": {},
   "outputs": [
    {
     "data": {
      "text/plain": [
       "<Axes: xlabel='rewarded_vs_not', ylabel='items_in_first_month'>"
      ]
     },
     "execution_count": 142,
     "metadata": {},
     "output_type": "execute_result"
    },
    {
     "data": {
      "image/png": "[encoded data removed]",
      "text/plain": [
       "<Figure size 640x480 with 1 Axes>"
      ]
     },
     "metadata": {},
     "output_type": "display_data"
    }
   ],
   "source": [
    "sns.violinplot(x=\"rewarded_vs_not\", y=\"items_in_first_month\", data=customer_data)"
   ]
  },
  {
   "cell_type": "markdown",
   "metadata": {},
   "source": [
    "The violin plot shows the same subdivision between our two populations. As shown in the table, the median is exactly the same. However, among the minorities who bought more than 10 items, the population seems slightly larger in the invested customers (the ones who did spend some money on their first month). Question would be therefore to test whether the proportion of n_items > 10 in the \"invested\" subpopulation is significantly higher than the one in the \"rewarded\" subpopulation. \n",
    "I will do a proportion test.  \n",
    "H0 = the proportion of items > 10 is the same between rewarded and invested.  \n",
    "H1 = the proportion of items > 10 in the rewarded population is lower than in the invested \n",
    "alpha = 0.05"
   ]
  },
  {
   "cell_type": "code",
   "execution_count": 153,
   "metadata": {},
   "outputs": [
    {
     "name": "stdout",
     "output_type": "stream",
     "text": [
      "rewarded_vs_not  big_items_nb\n",
      "invested         <10             0.645852\n",
      "                 >10             0.354148\n",
      "rewarded         <10             0.728000\n",
      "                 >10             0.272000\n",
      "Name: proportion, dtype: float64\n",
      "rewarded_vs_not  big_items_nb\n",
      "invested         <10             724\n",
      "                 >10             397\n",
      "rewarded         <10              91\n",
      "                 >10              34\n",
      "Name: count, dtype: int64\n",
      "1.8314574062017945 0.03351614982201288\n"
     ]
    }
   ],
   "source": [
    "customer_data[\"big_items_nb\"] = np.where(customer_data[\"items_in_first_month\"] > 10, \">10\", \"<10\")\n",
    "p_hats = customer_data.groupby(\"rewarded_vs_not\")[\"big_items_nb\"].value_counts(normalize = True)\n",
    "print(p_hats)\n",
    "n_big_small_items = customer_data.groupby(\"rewarded_vs_not\")[\"big_items_nb\"].value_counts()\n",
    "print(n_big_small_items)\n",
    "n_more_10 = np.array([397, 34])\n",
    "n_rows = np.array([724+397, 91+34])\n",
    "z_score,p_value = proportions_ztest(count=n_more_10, nobs=n_rows, alternative=\"larger\")\n",
    "print(z_score, p_value)"
   ]
  },
  {
   "cell_type": "markdown",
   "metadata": {},
   "source": [
    "with an alpha=0.05 I can reject H0 and conclude that the proportion of people buying more than 10 items in their first month is higher in the invested population compared to the rewarded (the ones who bought stuff only with their reward).  \n",
    "However, the difference is very small (0.354 vs 0.272). Some improvements should be done to encourage the customers to use their rewards AND buy stuff with real money.  "
   ]
  },
  {
   "cell_type": "markdown",
   "metadata": {},
   "source": [
    "# **Does loyalty pay off (to our advantage of course)?**\n",
    "The team at International Essentials have told me that they have always believed that the number of years in the loyalty scheme is the biggest driver of spend.  \n",
    "Let's see if they have a good instinct.  "
   ]
  }
 ],
 "metadata": {
  "kernelspec": {
   "display_name": "Essai",
   "language": "python",
   "name": "python3"
  },
  "language_info": {
   "codemirror_mode": {
    "name": "ipython",
    "version": 3
   },
   "file_extension": ".py",
   "mimetype": "text/x-python",
   "name": "python",
   "nbconvert_exporter": "python",
   "pygments_lexer": "ipython3",
   "version": "3.12.4"
  }
 },
 "nbformat": 4,
 "nbformat_minor": 2
}
